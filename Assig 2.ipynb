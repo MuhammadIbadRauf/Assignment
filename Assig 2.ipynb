{
 "cells": [
  {
   "cell_type": "code",
   "execution_count": 28,
   "metadata": {},
   "outputs": [
    {
     "name": "stdout",
     "output_type": "stream",
     "text": [
      "Enter first subject marks= 55\n",
      "Enter second subject marks= 55\n",
      "Enter third subject marks= 55\n",
      "Enter forth subject marks= 55\n",
      "Enter fifth subject marks= 55\n",
      "Total Marks=  275\n",
      "Percentage=  55.00000000000001\n",
      "Grade= C\n"
     ]
    }
   ],
   "source": [
    "first=input(\"Enter first subject marks= \")\n",
    "second=input(\"Enter second subject marks= \")\n",
    "third=input(\"Enter third subject marks= \")\n",
    "forth=input(\"Enter forth subject marks= \")\n",
    "fifth=input(\"Enter fifth subject marks= \")\n",
    "total=int (first)+int (second)+int (third)+int (forth)+int (fifth)\n",
    "print(\"Total Marks= \",total)\n",
    "per=(total/500)*100\n",
    "print(\"Percentage= \",per)\n",
    "if per>=80:\n",
    " print(\"Grade= A+\")\n",
    "elif per>=70 and per<80:\n",
    " print(\"Grade= A\")\n",
    "elif per>=60 and per<70:\n",
    " print(\"Grade= B\")\n",
    "elif per>=50 and per<60:\n",
    " print(\"Grade= C\")\n",
    "elif per>=40 and pet<50:\n",
    " print(\"Grade= D\")\n",
    "else:\n",
    " print(\"Fail\")\n",
    "\n",
    "\n"
   ]
  },
  {
   "cell_type": "code",
   "execution_count": 21,
   "metadata": {},
   "outputs": [
    {
     "name": "stdout",
     "output_type": "stream",
     "text": [
      "Enter Your Number= 55\n",
      "Odd Number\n"
     ]
    }
   ],
   "source": [
    "num=input(\"Enter Your Number= \")\n",
    "mod= int(num) % 2\n",
    "if mod>0:\n",
    "    print(\"Odd Number\")\n",
    "else:\n",
    "    print(\"Even Number\")"
   ]
  },
  {
   "cell_type": "code",
   "execution_count": 29,
   "metadata": {},
   "outputs": [
    {
     "name": "stdout",
     "output_type": "stream",
     "text": [
      "Length of list=  8\n"
     ]
    }
   ],
   "source": [
    "a=[4,5,7,8,9,4,1,3]\n",
    "print(\"Length of list= \",len (a))"
   ]
  },
  {
   "cell_type": "code",
   "execution_count": 34,
   "metadata": {},
   "outputs": [
    {
     "name": "stdout",
     "output_type": "stream",
     "text": [
      "71\n"
     ]
    }
   ],
   "source": [
    "a=[55,4,5,7,\"ibad\",\"ali\"]\n",
    "arr=a[0]+a[1]+a[2]+a[3]\n",
    "print(arr)"
   ]
  },
  {
   "cell_type": "code",
   "execution_count": 35,
   "metadata": {},
   "outputs": [
    {
     "name": "stdout",
     "output_type": "stream",
     "text": [
      "Largest number in list=  99\n"
     ]
    }
   ],
   "source": [
    "list=[4,20,55,78,99,14,22]\n",
    "print(\"Largest number in list= \",max(list))"
   ]
  },
  {
   "cell_type": "code",
   "execution_count": 16,
   "metadata": {},
   "outputs": [
    {
     "name": "stdout",
     "output_type": "stream",
     "text": [
      "[1]\n",
      "[1, 1]\n",
      "[1, 1, 2]\n",
      "[1, 1, 2, 3]\n"
     ]
    }
   ],
   "source": [
    "list=[1,1,2,3,5,8,13,21,34,55,89]\n",
    "new=[]\n",
    "for item in list:\n",
    "    if item <5:\n",
    "        new.append(item)\n",
    "        print(new)\n",
    "    \n",
    "\n",
    "\n"
   ]
  },
  {
   "cell_type": "code",
   "execution_count": 15,
   "metadata": {},
   "outputs": [
    {
     "name": "stdout",
     "output_type": "stream",
     "text": [
      "1\n",
      "1\n",
      "2\n",
      "3\n"
     ]
    }
   ],
   "source": [
    "a = [1, 1, 2, 3, 5, 8, 13, 21, 34, 55, 89]\n",
    "for i in a:\n",
    "    if i < 5:\n",
    "        print (i)\n"
   ]
  },
  {
   "cell_type": "code",
   "execution_count": null,
   "metadata": {},
   "outputs": [],
   "source": []
  }
 ],
 "metadata": {
  "kernelspec": {
   "display_name": "Python 3",
   "language": "python",
   "name": "python3"
  },
  "language_info": {
   "codemirror_mode": {
    "name": "ipython",
    "version": 3
   },
   "file_extension": ".py",
   "mimetype": "text/x-python",
   "name": "python",
   "nbconvert_exporter": "python",
   "pygments_lexer": "ipython3",
   "version": "3.7.4"
  }
 },
 "nbformat": 4,
 "nbformat_minor": 2
}
